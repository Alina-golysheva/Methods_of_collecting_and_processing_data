{
 "cells": [
  {
   "cell_type": "markdown",
   "metadata": {},
   "source": [
    "Это была работа над ошибками:\n",
    "Вес еды - использован метод find_all. Здесь можно и обычным find найти - вернется сразу тег, а не список. И да, кстати из тега выдергиваем значение текста, чтобы сразу были чистые данные:\n",
    "\n",
    "eda_weight = eda.find('span',{'class':'RestaurantStorePageMenuItem_weight'}).getText() С ценой - та же ситуация - забыли getText()\n",
    "\n",
    "eda_price = eda.find('span',{'class':'RestaurantStorePageMenuItem_price'}).getText() Раз уж работем с ценой. То в идеале из полученных данных извлечь саму цифру и преобразовать к int - потом очень сильно пригодится. Кстати также с весом - там вообще можно разбить на две составляющие на саму фийру и на ед. измерения. - тоже будет полезно.\n",
    "\n",
    "Попрошу вас доделать именно до такого состояния. Поля которые должны присутствовать: Имя, вес (число int), единицы измерения, цена(число int или float) и в идеале еще добавить магазин откуда собраны данные. Мы с жтим наором будем работать в следующем ДЗ, поэтому пригодится) Пока оценка \"хорошо\""
   ]
  },
  {
   "cell_type": "code",
   "execution_count": 1,
   "metadata": {},
   "outputs": [],
   "source": [
    "from bs4 import BeautifulSoup as bs\n",
    "import requests\n",
    "from pprint import pprint\n",
    "import pandas as pd"
   ]
  },
  {
   "cell_type": "code",
   "execution_count": 2,
   "metadata": {},
   "outputs": [],
   "source": [
    "main_link = 'https://eda.yandex/shop/azbuka_vkusa_simferopolskij_bulvar_22k3?category=782350'\n",
    "response = requests.get(main_link).text\n",
    "soup = bs(response,'lxml')\n",
    "\n",
    "eda_block = soup.find('div',{'class':'RestaurantPageStorePageCategoryListWithItems_root'})\n",
    "eda_list = eda_block.find_all('div',{'class':'RestaurantStorePageMenuCategory_itemWrapper'})\n",
    "\n",
    "bakalea = []\n",
    "for eda in eda_list:\n",
    "    eda_data = {}\n",
    "    eda_name = eda.find('h3').getText()\n",
    "    eda_weight = eda.find('span',{'class':'RestaurantStorePageMenuItem_weight'}).getText()\n",
    "    eda_price =  eda.find('span',{'class':'RestaurantStorePageMenuItem_price'})\n",
    "  \n",
    "    if not eda_price:\n",
    "        eda_price = 0\n",
    "        eda_curr = None\n",
    "    else:\n",
    "        eda_price = eda_price.getText()\n",
    "        eda_curr = eda_price[-1]\n",
    "        eda_price = eda_price.replace(' ₽', '')\n",
    "        \n",
    "    eda_data['name'] = eda_name\n",
    "    eda_data['weight'] = eda_weight      \n",
    "    eda_data['price'] = int(eda_price)\n",
    "    eda_data['currency'] = eda_curr\n",
    "    bakalea.append(eda_data)"
   ]
  },
  {
   "cell_type": "markdown",
   "metadata": {},
   "source": [
    "3 урок\n",
    "1) Развернуть у себя на компьютере/виртуальной машине/хостинге MongoDB и реализовать функцию, записывающую собранные вакансии в созданную БД (без датафрейма)\n",
    "\n",
    "2) Написать функцию, которая производит поиск и выводит на экран вакансии с заработной платой больше введенной суммы. Поиск по двум полям (мин и макс зарплату)\n",
    "\n",
    "3) Написать функцию, которая будет добавлять в вашу базу данных только новые вакансии с сайта"
   ]
  },
  {
   "cell_type": "code",
   "execution_count": 12,
   "metadata": {},
   "outputs": [],
   "source": [
    "import pymongo"
   ]
  },
  {
   "cell_type": "code",
   "execution_count": 13,
   "metadata": {},
   "outputs": [
    {
     "ename": "NameError",
     "evalue": "name 'MongoClient' is not defined",
     "output_type": "error",
     "traceback": [
      "\u001b[1;31m---------------------------------------------------------------------------\u001b[0m",
      "\u001b[1;31mNameError\u001b[0m                                 Traceback (most recent call last)",
      "\u001b[1;32m<ipython-input-13-565a133ab070>\u001b[0m in \u001b[0;36m<module>\u001b[1;34m\u001b[0m\n\u001b[1;32m----> 1\u001b[1;33m \u001b[0mclient\u001b[0m \u001b[1;33m=\u001b[0m \u001b[0mMongoClient\u001b[0m\u001b[1;33m(\u001b[0m\u001b[1;34m'localhost'\u001b[0m\u001b[1;33m,\u001b[0m \u001b[1;36m27017\u001b[0m\u001b[1;33m)\u001b[0m\u001b[1;33m\u001b[0m\u001b[1;33m\u001b[0m\u001b[0m\n\u001b[0m\u001b[0;32m      2\u001b[0m \u001b[0mdb\u001b[0m \u001b[1;33m=\u001b[0m \u001b[0mclient\u001b[0m\u001b[1;33m[\u001b[0m\u001b[1;34m'eda'\u001b[0m\u001b[1;33m]\u001b[0m\u001b[1;33m\u001b[0m\u001b[1;33m\u001b[0m\u001b[0m\n\u001b[0;32m      3\u001b[0m \u001b[0mcollection\u001b[0m \u001b[1;33m=\u001b[0m \u001b[0mdb\u001b[0m\u001b[1;33m[\u001b[0m\u001b[1;34m'col'\u001b[0m\u001b[1;33m]\u001b[0m\u001b[1;33m\u001b[0m\u001b[1;33m\u001b[0m\u001b[0m\n\u001b[0;32m      4\u001b[0m \u001b[1;32mfor\u001b[0m \u001b[0mi\u001b[0m \u001b[1;32min\u001b[0m \u001b[0mbakalea\u001b[0m\u001b[1;33m:\u001b[0m\u001b[1;33m\u001b[0m\u001b[1;33m\u001b[0m\u001b[0m\n\u001b[0;32m      5\u001b[0m     \u001b[1;32mtry\u001b[0m\u001b[1;33m:\u001b[0m\u001b[1;33m\u001b[0m\u001b[1;33m\u001b[0m\u001b[0m\n",
      "\u001b[1;31mNameError\u001b[0m: name 'MongoClient' is not defined"
     ]
    }
   ],
   "source": [
    "client = MongoClient('localhost', 27017)\n",
    "db = client['eda']\n",
    "collection = db['col']\n",
    "for i in bakalea:\n",
    "    try:\n",
    "        db.collection.insert_one(i)\n",
    "    except:\n",
    "        pass\n",
    "for  db.collection in  db.collection.find({'price':{'$gt':500}}):\n",
    "     pprint( db.collection)"
   ]
  },
  {
   "cell_type": "code",
   "execution_count": null,
   "metadata": {},
   "outputs": [],
   "source": []
  }
 ],
 "metadata": {
  "kernelspec": {
   "display_name": "Python 3",
   "language": "python",
   "name": "python3"
  },
  "language_info": {
   "codemirror_mode": {
    "name": "ipython",
    "version": 3
   },
   "file_extension": ".py",
   "mimetype": "text/x-python",
   "name": "python",
   "nbconvert_exporter": "python",
   "pygments_lexer": "ipython3",
   "version": "3.7.6"
  }
 },
 "nbformat": 4,
 "nbformat_minor": 4
}
